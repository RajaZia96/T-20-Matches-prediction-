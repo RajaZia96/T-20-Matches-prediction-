{
 "cells": [
  {
   "cell_type": "code",
   "execution_count": 1,
   "metadata": {},
   "outputs": [
    {
     "name": "stdout",
     "output_type": "stream",
     "text": [
      "<class 'pandas.core.frame.DataFrame'>\n",
      "RangeIndex: 738 entries, 0 to 737\n",
      "Data columns (total 7 columns):\n",
      "Team_1         738 non-null object\n",
      "Team_2         738 non-null object\n",
      "Ground         738 non-null object\n",
      "toss_winner    738 non-null object\n",
      "Bat            738 non-null object\n",
      "Winner         738 non-null object\n",
      "Toss           738 non-null object\n",
      "dtypes: object(7)\n",
      "memory usage: 40.5+ KB\n"
     ]
    },
    {
     "data": {
      "text/html": [
       "<div>\n",
       "<style scoped>\n",
       "    .dataframe tbody tr th:only-of-type {\n",
       "        vertical-align: middle;\n",
       "    }\n",
       "\n",
       "    .dataframe tbody tr th {\n",
       "        vertical-align: top;\n",
       "    }\n",
       "\n",
       "    .dataframe thead th {\n",
       "        text-align: right;\n",
       "    }\n",
       "</style>\n",
       "<table border=\"1\" class=\"dataframe\">\n",
       "  <thead>\n",
       "    <tr style=\"text-align: right;\">\n",
       "      <th></th>\n",
       "      <th>Team_1</th>\n",
       "      <th>Team_2</th>\n",
       "      <th>Ground</th>\n",
       "      <th>toss_winner</th>\n",
       "      <th>Bat</th>\n",
       "      <th>Winner</th>\n",
       "      <th>Toss</th>\n",
       "    </tr>\n",
       "  </thead>\n",
       "  <tbody>\n",
       "    <tr>\n",
       "      <td>698</td>\n",
       "      <td>22</td>\n",
       "      <td>16</td>\n",
       "      <td>Abu Dhabi</td>\n",
       "      <td>22</td>\n",
       "      <td>24</td>\n",
       "      <td>22</td>\n",
       "      <td>0</td>\n",
       "    </tr>\n",
       "    <tr>\n",
       "      <td>699</td>\n",
       "      <td>13</td>\n",
       "      <td>18</td>\n",
       "      <td>Dubai (DSC)</td>\n",
       "      <td>13</td>\n",
       "      <td>25</td>\n",
       "      <td>13</td>\n",
       "      <td>1</td>\n",
       "    </tr>\n",
       "    <tr>\n",
       "      <td>700</td>\n",
       "      <td>1</td>\n",
       "      <td>6</td>\n",
       "      <td>Adelaide</td>\n",
       "      <td>1</td>\n",
       "      <td>25</td>\n",
       "      <td>1</td>\n",
       "      <td>0</td>\n",
       "    </tr>\n",
       "    <tr>\n",
       "      <td>701</td>\n",
       "      <td>20</td>\n",
       "      <td>14</td>\n",
       "      <td>Dubai (DSC)</td>\n",
       "      <td>20</td>\n",
       "      <td>25</td>\n",
       "      <td>20</td>\n",
       "      <td>0</td>\n",
       "    </tr>\n",
       "    <tr>\n",
       "      <td>702</td>\n",
       "      <td>13</td>\n",
       "      <td>15</td>\n",
       "      <td>Dubai (DSC)</td>\n",
       "      <td>13</td>\n",
       "      <td>24</td>\n",
       "      <td>13</td>\n",
       "      <td>1</td>\n",
       "    </tr>\n",
       "    <tr>\n",
       "      <td>703</td>\n",
       "      <td>17</td>\n",
       "      <td>16</td>\n",
       "      <td>Abu Dhabi</td>\n",
       "      <td>17</td>\n",
       "      <td>25</td>\n",
       "      <td>17</td>\n",
       "      <td>0</td>\n",
       "    </tr>\n",
       "    <tr>\n",
       "      <td>704</td>\n",
       "      <td>13</td>\n",
       "      <td>17</td>\n",
       "      <td>Dubai (DSC)</td>\n",
       "      <td>13</td>\n",
       "      <td>24</td>\n",
       "      <td>13</td>\n",
       "      <td>0</td>\n",
       "    </tr>\n",
       "    <tr>\n",
       "      <td>705</td>\n",
       "      <td>23</td>\n",
       "      <td>22</td>\n",
       "      <td>Dubai (DSC)</td>\n",
       "      <td>23</td>\n",
       "      <td>25</td>\n",
       "      <td>23</td>\n",
       "      <td>1</td>\n",
       "    </tr>\n",
       "    <tr>\n",
       "      <td>706</td>\n",
       "      <td>1</td>\n",
       "      <td>6</td>\n",
       "      <td>Brisbane</td>\n",
       "      <td>1</td>\n",
       "      <td>24</td>\n",
       "      <td>1</td>\n",
       "      <td>0</td>\n",
       "    </tr>\n",
       "    <tr>\n",
       "      <td>707</td>\n",
       "      <td>15</td>\n",
       "      <td>17</td>\n",
       "      <td>Dubai (DSC)</td>\n",
       "      <td>15</td>\n",
       "      <td>25</td>\n",
       "      <td>15</td>\n",
       "      <td>1</td>\n",
       "    </tr>\n",
       "    <tr>\n",
       "      <td>708</td>\n",
       "      <td>22</td>\n",
       "      <td>19</td>\n",
       "      <td>Dubai (DSC)</td>\n",
       "      <td>22</td>\n",
       "      <td>25</td>\n",
       "      <td>22</td>\n",
       "      <td>1</td>\n",
       "    </tr>\n",
       "    <tr>\n",
       "      <td>709</td>\n",
       "      <td>15</td>\n",
       "      <td>22</td>\n",
       "      <td>ICCA Dubai</td>\n",
       "      <td>15</td>\n",
       "      <td>24</td>\n",
       "      <td>15</td>\n",
       "      <td>0</td>\n",
       "    </tr>\n",
       "    <tr>\n",
       "      <td>710</td>\n",
       "      <td>2</td>\n",
       "      <td>4</td>\n",
       "      <td>Christchurch</td>\n",
       "      <td>2</td>\n",
       "      <td>24</td>\n",
       "      <td>2</td>\n",
       "      <td>1</td>\n",
       "    </tr>\n",
       "    <tr>\n",
       "      <td>711</td>\n",
       "      <td>1</td>\n",
       "      <td>6</td>\n",
       "      <td>Melbourne</td>\n",
       "      <td>1</td>\n",
       "      <td>24</td>\n",
       "      <td>1</td>\n",
       "      <td>1</td>\n",
       "    </tr>\n",
       "    <tr>\n",
       "      <td>712</td>\n",
       "      <td>13</td>\n",
       "      <td>12</td>\n",
       "      <td>Dubai (DSC)</td>\n",
       "      <td>13</td>\n",
       "      <td>25</td>\n",
       "      <td>13</td>\n",
       "      <td>0</td>\n",
       "    </tr>\n",
       "    <tr>\n",
       "      <td>713</td>\n",
       "      <td>20</td>\n",
       "      <td>23</td>\n",
       "      <td>Dubai (DSC)</td>\n",
       "      <td>20</td>\n",
       "      <td>25</td>\n",
       "      <td>20</td>\n",
       "      <td>1</td>\n",
       "    </tr>\n",
       "    <tr>\n",
       "      <td>714</td>\n",
       "      <td>12</td>\n",
       "      <td>23</td>\n",
       "      <td>Dubai (DSC)</td>\n",
       "      <td>12</td>\n",
       "      <td>25</td>\n",
       "      <td>12</td>\n",
       "      <td>1</td>\n",
       "    </tr>\n",
       "    <tr>\n",
       "      <td>715</td>\n",
       "      <td>13</td>\n",
       "      <td>20</td>\n",
       "      <td>Dubai (DSC)</td>\n",
       "      <td>13</td>\n",
       "      <td>24</td>\n",
       "      <td>13</td>\n",
       "      <td>0</td>\n",
       "    </tr>\n",
       "    <tr>\n",
       "      <td>716</td>\n",
       "      <td>4</td>\n",
       "      <td>2</td>\n",
       "      <td>Wellington</td>\n",
       "      <td>4</td>\n",
       "      <td>25</td>\n",
       "      <td>4</td>\n",
       "      <td>0</td>\n",
       "    </tr>\n",
       "    <tr>\n",
       "      <td>717</td>\n",
       "      <td>7</td>\n",
       "      <td>8</td>\n",
       "      <td>Delhi</td>\n",
       "      <td>7</td>\n",
       "      <td>24</td>\n",
       "      <td>7</td>\n",
       "      <td>1</td>\n",
       "    </tr>\n",
       "    <tr>\n",
       "      <td>718</td>\n",
       "      <td>4</td>\n",
       "      <td>2</td>\n",
       "      <td>Nelson</td>\n",
       "      <td>4</td>\n",
       "      <td>25</td>\n",
       "      <td>4</td>\n",
       "      <td>1</td>\n",
       "    </tr>\n",
       "    <tr>\n",
       "      <td>719</td>\n",
       "      <td>1</td>\n",
       "      <td>3</td>\n",
       "      <td>Canberra</td>\n",
       "      <td>1</td>\n",
       "      <td>24</td>\n",
       "      <td>1</td>\n",
       "      <td>0</td>\n",
       "    </tr>\n",
       "    <tr>\n",
       "      <td>720</td>\n",
       "      <td>8</td>\n",
       "      <td>7</td>\n",
       "      <td>Rajkot</td>\n",
       "      <td>8</td>\n",
       "      <td>24</td>\n",
       "      <td>8</td>\n",
       "      <td>1</td>\n",
       "    </tr>\n",
       "    <tr>\n",
       "      <td>721</td>\n",
       "      <td>2</td>\n",
       "      <td>4</td>\n",
       "      <td>Napier</td>\n",
       "      <td>2</td>\n",
       "      <td>25</td>\n",
       "      <td>2</td>\n",
       "      <td>0</td>\n",
       "    </tr>\n",
       "    <tr>\n",
       "      <td>722</td>\n",
       "      <td>1</td>\n",
       "      <td>3</td>\n",
       "      <td>Perth</td>\n",
       "      <td>1</td>\n",
       "      <td>24</td>\n",
       "      <td>1</td>\n",
       "      <td>1</td>\n",
       "    </tr>\n",
       "    <tr>\n",
       "      <td>723</td>\n",
       "      <td>8</td>\n",
       "      <td>7</td>\n",
       "      <td>Nagpur</td>\n",
       "      <td>8</td>\n",
       "      <td>25</td>\n",
       "      <td>8</td>\n",
       "      <td>0</td>\n",
       "    </tr>\n",
       "    <tr>\n",
       "      <td>724</td>\n",
       "      <td>5</td>\n",
       "      <td>10</td>\n",
       "      <td>Lucknow</td>\n",
       "      <td>5</td>\n",
       "      <td>25</td>\n",
       "      <td>5</td>\n",
       "      <td>0</td>\n",
       "    </tr>\n",
       "    <tr>\n",
       "      <td>725</td>\n",
       "      <td>10</td>\n",
       "      <td>5</td>\n",
       "      <td>Lucknow</td>\n",
       "      <td>10</td>\n",
       "      <td>25</td>\n",
       "      <td>10</td>\n",
       "      <td>1</td>\n",
       "    </tr>\n",
       "    <tr>\n",
       "      <td>726</td>\n",
       "      <td>10</td>\n",
       "      <td>5</td>\n",
       "      <td>Lucknow</td>\n",
       "      <td>10</td>\n",
       "      <td>25</td>\n",
       "      <td>10</td>\n",
       "      <td>1</td>\n",
       "    </tr>\n",
       "    <tr>\n",
       "      <td>727</td>\n",
       "      <td>8</td>\n",
       "      <td>5</td>\n",
       "      <td>Hyderabad (Deccan)</td>\n",
       "      <td>8</td>\n",
       "      <td>24</td>\n",
       "      <td>8</td>\n",
       "      <td>1</td>\n",
       "    </tr>\n",
       "    <tr>\n",
       "      <td>728</td>\n",
       "      <td>5</td>\n",
       "      <td>8</td>\n",
       "      <td>Thiruvananthapuram</td>\n",
       "      <td>5</td>\n",
       "      <td>24</td>\n",
       "      <td>5</td>\n",
       "      <td>1</td>\n",
       "    </tr>\n",
       "    <tr>\n",
       "      <td>729</td>\n",
       "      <td>8</td>\n",
       "      <td>5</td>\n",
       "      <td>Mumbai</td>\n",
       "      <td>8</td>\n",
       "      <td>25</td>\n",
       "      <td>8</td>\n",
       "      <td>0</td>\n",
       "    </tr>\n",
       "    <tr>\n",
       "      <td>730</td>\n",
       "      <td>8</td>\n",
       "      <td>6</td>\n",
       "      <td>Indore</td>\n",
       "      <td>8</td>\n",
       "      <td>24</td>\n",
       "      <td>8</td>\n",
       "      <td>1</td>\n",
       "    </tr>\n",
       "    <tr>\n",
       "      <td>731</td>\n",
       "      <td>8</td>\n",
       "      <td>6</td>\n",
       "      <td>Pune</td>\n",
       "      <td>8</td>\n",
       "      <td>25</td>\n",
       "      <td>8</td>\n",
       "      <td>0</td>\n",
       "    </tr>\n",
       "    <tr>\n",
       "      <td>732</td>\n",
       "      <td>12</td>\n",
       "      <td>5</td>\n",
       "      <td>St Georges</td>\n",
       "      <td>12</td>\n",
       "      <td>25</td>\n",
       "      <td>12</td>\n",
       "      <td>1</td>\n",
       "    </tr>\n",
       "    <tr>\n",
       "      <td>733</td>\n",
       "      <td>5</td>\n",
       "      <td>12</td>\n",
       "      <td>Basseterre</td>\n",
       "      <td>5</td>\n",
       "      <td>24</td>\n",
       "      <td>5</td>\n",
       "      <td>1</td>\n",
       "    </tr>\n",
       "    <tr>\n",
       "      <td>734</td>\n",
       "      <td>8</td>\n",
       "      <td>4</td>\n",
       "      <td>Auckland</td>\n",
       "      <td>8</td>\n",
       "      <td>24</td>\n",
       "      <td>8</td>\n",
       "      <td>1</td>\n",
       "    </tr>\n",
       "    <tr>\n",
       "      <td>735</td>\n",
       "      <td>3</td>\n",
       "      <td>7</td>\n",
       "      <td>Lahore</td>\n",
       "      <td>3</td>\n",
       "      <td>24</td>\n",
       "      <td>3</td>\n",
       "      <td>0</td>\n",
       "    </tr>\n",
       "    <tr>\n",
       "      <td>736</td>\n",
       "      <td>3</td>\n",
       "      <td>7</td>\n",
       "      <td>Lahore</td>\n",
       "      <td>3</td>\n",
       "      <td>24</td>\n",
       "      <td>3</td>\n",
       "      <td>0</td>\n",
       "    </tr>\n",
       "    <tr>\n",
       "      <td>737</td>\n",
       "      <td>8</td>\n",
       "      <td>4</td>\n",
       "      <td>Auckland</td>\n",
       "      <td>8</td>\n",
       "      <td>24</td>\n",
       "      <td>8</td>\n",
       "      <td>0</td>\n",
       "    </tr>\n",
       "  </tbody>\n",
       "</table>\n",
       "</div>"
      ],
      "text/plain": [
       "     Team_1  Team_2              Ground  toss_winner  Bat  Winner  Toss\n",
       "698      22      16           Abu Dhabi           22   24      22     0\n",
       "699      13      18         Dubai (DSC)           13   25      13     1\n",
       "700       1       6            Adelaide            1   25       1     0\n",
       "701      20      14         Dubai (DSC)           20   25      20     0\n",
       "702      13      15         Dubai (DSC)           13   24      13     1\n",
       "703      17      16           Abu Dhabi           17   25      17     0\n",
       "704      13      17         Dubai (DSC)           13   24      13     0\n",
       "705      23      22         Dubai (DSC)           23   25      23     1\n",
       "706       1       6            Brisbane            1   24       1     0\n",
       "707      15      17         Dubai (DSC)           15   25      15     1\n",
       "708      22      19         Dubai (DSC)           22   25      22     1\n",
       "709      15      22          ICCA Dubai           15   24      15     0\n",
       "710       2       4        Christchurch            2   24       2     1\n",
       "711       1       6           Melbourne            1   24       1     1\n",
       "712      13      12         Dubai (DSC)           13   25      13     0\n",
       "713      20      23         Dubai (DSC)           20   25      20     1\n",
       "714      12      23         Dubai (DSC)           12   25      12     1\n",
       "715      13      20         Dubai (DSC)           13   24      13     0\n",
       "716       4       2          Wellington            4   25       4     0\n",
       "717       7       8               Delhi            7   24       7     1\n",
       "718       4       2              Nelson            4   25       4     1\n",
       "719       1       3            Canberra            1   24       1     0\n",
       "720       8       7              Rajkot            8   24       8     1\n",
       "721       2       4              Napier            2   25       2     0\n",
       "722       1       3               Perth            1   24       1     1\n",
       "723       8       7              Nagpur            8   25       8     0\n",
       "724       5      10             Lucknow            5   25       5     0\n",
       "725      10       5             Lucknow           10   25      10     1\n",
       "726      10       5             Lucknow           10   25      10     1\n",
       "727       8       5  Hyderabad (Deccan)            8   24       8     1\n",
       "728       5       8  Thiruvananthapuram            5   24       5     1\n",
       "729       8       5              Mumbai            8   25       8     0\n",
       "730       8       6              Indore            8   24       8     1\n",
       "731       8       6                Pune            8   25       8     0\n",
       "732      12       5          St Georges           12   25      12     1\n",
       "733       5      12          Basseterre            5   24       5     1\n",
       "734       8       4            Auckland            8   24       8     1\n",
       "735       3       7              Lahore            3   24       3     0\n",
       "736       3       7              Lahore            3   24       3     0\n",
       "737       8       4            Auckland            8   24       8     0"
      ]
     },
     "execution_count": 1,
     "metadata": {},
     "output_type": "execute_result"
    }
   ],
   "source": [
    "import numpy as np\n",
    "import pandas as pd\n",
    "matches=pd.read_csv('T201.csv',encoding=\"windows-1252\")\n",
    "matches.info()\n",
    "matches[pd.isnull(matches['Winner'])]\n",
    "matches['Winner'].fillna('Draw', inplace=True)\n",
    "matches.replace(['Australia','England','Pakistan','NewZealand','West Indies',\n",
    "                 'Sri Lanka','Bangladesh','India','South Africa',\n",
    "                 'Afghanistan','Zimbabwe','Ireland','Netherlands','Kenya','Scotland','Canada','U.A.E.','Bermuda','Hong Kong','P.N.G.','Malaysia','Oman','Namibia']\n",
    "                ,['Aus','Eng','Pak','NZ','WI','SL','Ban','Ind','SA','Afg','Zim','Ire','NL','KN','SC','CN','UAE','BM','HK','PNG','ML','OM','NM'],inplace=True)\n",
    "\n",
    "\n",
    "\n",
    "\n",
    "encode = {'Team_1': {'Aus':1,'Eng':2,'Pak':3,'NZ':4,'WI':5,'SL':6,'Ban':7,'Ind':8,'SA':9,'Afg':10,'Zim':11,'Ire':12,'NL':13,'KN':14,'SC':15,'CN':16,'UAE':17,'BM':18,'HK':19,'PNG':20,'ML':21,'OM':22,'NM':23},\n",
    "          'Team_2': {'Aus':1,'Eng':2,'Pak':3,'NZ':4,'WI':5,'SL':6,'Ban':7,'Ind':8,'SA':9,'Afg':10,'Zim':11,'Ire':12,'NL':13,'KN':14,'SC':15,'CN':16,'UAE':17,'BM':18,'HK':19,'PNG':20,'ML':21,'OM':22,'NM':23},\n",
    "          'toss_winner': {'Aus':1,'Eng':2,'Pak':3,'NZ':4,'WI':5,'SL':6,'Ban':7,'Ind':8,'SA':9,'Afg':10,'Zim':11,'Ire':12,'NL':13,'KN':14,'SC':15,'CN':16,'UAE':17,'BM':18,'HK':19,'PNG':20,'ML':21,'OM':22,'NM':23},\n",
    "           'Winner': {'Aus':1,'Eng':2,'Pak':3,'NZ':4,'WI':5,'SL':6,'Ban':7,'Ind':8,'SA':9,'Afg':10,'Zim':11,'Ire':12,'NL':13,'Draw':22,'KN':14,'SC':15,'CN':16,'UAE':17,'BM':18,'HK':19,'PNG':20,'ML':21,'OM':22,'NM':23},\n",
    "          'Toss':{'win':1,'loss':0},\n",
    "          'Bat':{'2nd':24,'first':25}\n",
    "         }\n",
    "matches.replace(encode, inplace=True)\n",
    "matches.tail(40)\n",
    "#matches[pd.isnull(matches['city'])]\n",
    "#matches['city'].fillna('Dubai',inplace=True)\n",
    "#matches.describe()\n"
   ]
  },
  {
   "cell_type": "code",
   "execution_count": 2,
   "metadata": {},
   "outputs": [
    {
     "name": "stdout",
     "output_type": "stream",
     "text": [
      "3\n",
      "Aus\n",
      "No of toss winners by each team\n",
      "Pak -> 83\n",
      "Ind -> 76\n",
      "SA -> 59\n",
      "Aus -> 57\n",
      "NZ -> 56\n",
      "SL -> 54\n",
      "Afg -> 53\n",
      "Eng -> 50\n",
      "WI -> 49\n",
      "Ire -> 36\n",
      "NL -> 35\n",
      "SC -> 29\n",
      "Ban -> 26\n",
      "UAE -> 16\n",
      "Zim -> 13\n",
      "Draw -> 11\n",
      "KN -> 11\n",
      "HK -> 9\n",
      "PNG -> 7\n",
      "CN -> 5\n",
      "NM -> 3\n",
      "No of match winners by each team\n",
      "Pak -> 83\n",
      "Ind -> 76\n",
      "SA -> 59\n",
      "Aus -> 57\n",
      "NZ -> 56\n",
      "SL -> 54\n",
      "Afg -> 53\n",
      "Eng -> 50\n",
      "WI -> 49\n",
      "Ire -> 36\n",
      "NL -> 35\n",
      "SC -> 29\n",
      "Ban -> 26\n",
      "UAE -> 16\n",
      "Zim -> 13\n",
      "Draw -> 11\n",
      "KN -> 11\n",
      "HK -> 9\n",
      "PNG -> 7\n",
      "CN -> 5\n",
      "NM -> 3\n"
     ]
    }
   ],
   "source": [
    "dicVal = encode['Winner']\n",
    "print(dicVal['Pak']) #key value\n",
    "print(list(dicVal.keys())[list(dicVal.values()).index(1)])\n",
    "matches = matches[['Team_1','Team_2','toss_winner','Bat','Ground','Toss','Winner']]\n",
    "matches.head(2)\n",
    "df = pd.DataFrame(matches)\n",
    "df.describe()\n",
    "temp1=df['toss_winner'].value_counts(sort=True)\n",
    "temp2=df['Winner'].value_counts(sort=True)\n",
    "print('No of toss winners by each team')\n",
    "for idx, val in temp1.iteritems():\n",
    "   print('{} -> {}'.format(list(dicVal.keys())[list(dicVal.values()).index(idx)],val))\n",
    "print('No of match winners by each team')\n",
    "for idx, val in temp2.iteritems():\n",
    "   print('{} -> {}'.format(list(dicVal.keys())[list(dicVal.values()).index(idx)],val))\n",
    "#df['winner'].hist(bins=40).plot()"
   ]
  },
  {
   "cell_type": "code",
   "execution_count": 3,
   "metadata": {},
   "outputs": [
    {
     "data": {
      "text/plain": [
       "Text(0.5, 1.0, 'Match winners')"
      ]
     },
     "execution_count": 3,
     "metadata": {},
     "output_type": "execute_result"
    }
   ],
   "source": [
    "import matplotlib.pyplot as plt\n",
    "fig = plt.figure(figsize=(8,4))\n",
    "ax1 = fig.add_subplot(121)\n",
    "ax1.set_xlabel('Team')\n",
    "ax1.set_ylabel('Count of toss wins')\n",
    "ax1.set_title(\"toss winners\")\n",
    "temp1.plot(kind='bar')\n",
    "\n",
    "ax2 = fig.add_subplot(122)\n",
    "temp2.plot(kind = 'bar')\n",
    "ax2.set_xlabel('Team')\n",
    "ax2.set_ylabel('count of matches won')\n",
    "ax2.set_title(\"Match winners\")"
   ]
  },
  {
   "cell_type": "code",
   "execution_count": 4,
   "metadata": {},
   "outputs": [
    {
     "data": {
      "text/plain": [
       "Team_1         0\n",
       "Team_2         0\n",
       "toss_winner    0\n",
       "Bat            0\n",
       "Ground         0\n",
       "Toss           0\n",
       "Winner         0\n",
       "dtype: int64"
      ]
     },
     "execution_count": 4,
     "metadata": {},
     "output_type": "execute_result"
    }
   ],
   "source": [
    "df.apply(lambda x: sum(x.isnull()),axis=0) #Checks for null values in the rows\n"
   ]
  },
  {
   "cell_type": "code",
   "execution_count": 5,
   "metadata": {},
   "outputs": [
    {
     "data": {
      "text/plain": [
       "Team_1         int64\n",
       "Team_2         int64\n",
       "toss_winner    int64\n",
       "Bat            int64\n",
       "Ground         int32\n",
       "Toss           int64\n",
       "Winner         int64\n",
       "dtype: object"
      ]
     },
     "execution_count": 5,
     "metadata": {},
     "output_type": "execute_result"
    }
   ],
   "source": [
    "from sklearn.preprocessing import LabelEncoder\n",
    "var_mod = ['Bat','Ground']\n",
    "le = LabelEncoder()\n",
    "for i in var_mod:\n",
    "    df[i] = le.fit_transform(df[i])\n",
    "df.dtypes"
   ]
  },
  {
   "cell_type": "code",
   "execution_count": 6,
   "metadata": {},
   "outputs": [],
   "source": [
    "X = matches.iloc[:,[0,1,3]].values  \n",
    "#data.iloc[:,[2,3]].values\n",
    "y = matches.iloc[:, 5].values \n",
    "from sklearn.model_selection import train_test_split  \n",
    "X_train, X_test, y_train, y_test = train_test_split(X, y, test_size=0.20)"
   ]
  },
  {
   "cell_type": "code",
   "execution_count": 7,
   "metadata": {},
   "outputs": [],
   "source": [
    "from sklearn.preprocessing import StandardScaler  \n",
    "s = StandardScaler()  \n",
    "s.fit(X_train)\n",
    " \n",
    "X_train = s.transform(X_train)  \n",
    "X_test = s.transform(X_test)"
   ]
  },
  {
   "cell_type": "code",
   "execution_count": 8,
   "metadata": {},
   "outputs": [
    {
     "name": "stdout",
     "output_type": "stream",
     "text": [
      "DecisionTreeClassifier(class_weight=None, criterion='gini', max_depth=None,\n",
      "                       max_features=None, max_leaf_nodes=None,\n",
      "                       min_impurity_decrease=0.0, min_impurity_split=None,\n",
      "                       min_samples_leaf=1, min_samples_split=2,\n",
      "                       min_weight_fraction_leaf=0.0, presort=False,\n",
      "                       random_state=0, splitter='best')\n"
     ]
    }
   ],
   "source": [
    "from sklearn.tree import DecisionTreeClassifier\n",
    "# Create decision tree classifer object\n",
    "clf = DecisionTreeClassifier(random_state=0)\n",
    " \n",
    "# Train model\n",
    "model = clf.fit(X_train, y_train)\n",
    "print(model)"
   ]
  },
  {
   "cell_type": "code",
   "execution_count": 9,
   "metadata": {},
   "outputs": [
    {
     "name": "stdout",
     "output_type": "stream",
     "text": [
      "Score is 0.5202702702702703\n"
     ]
    }
   ],
   "source": [
    "import matplotlib.pyplot as plt \n",
    "pred = model.predict(X_test) \n",
    "print(\"Score is\",model.score(X_test,y_test))"
   ]
  },
  {
   "cell_type": "code",
   "execution_count": 10,
   "metadata": {},
   "outputs": [],
   "source": [
    "#Import models from scikit learn module:\n",
    "from sklearn.linear_model import LogisticRegression\n",
    "#from sklearn.model_selection import train_test_split\n",
    "#from sklearn.cross_validation import KFold   #For K-fold cross validation\n",
    "#from sklearn.cross_validation import train_test_split\n",
    "from sklearn.model_selection import KFold\n",
    "#from sklearn.model_selection import KFold\n",
    "#KFold\n",
    "import sklearn.model_selection\n",
    "sklearn.model_selection.KFold\n",
    "from sklearn.ensemble import RandomForestClassifier\n",
    "from sklearn.tree import DecisionTreeClassifier, export_graphviz\n",
    "from sklearn import metrics\n",
    "\n",
    "#Generic function for making a classification model and accessing performance:\n",
    "def classification_model(model, data, predictors, outcome):\n",
    "    \n",
    "    #input shape\n",
    "    print(data[predictors].shape)\n",
    "    # Output var shape\n",
    "    print(data[outcome].shape)\n",
    "    \n",
    "    X=data[predictors]\n",
    "    Y=np.array(data[outcome])\n",
    "    \n",
    "    model.fit(X,Y)\n",
    "  \n",
    "    predictions = model.predict(X)\n",
    "  \n",
    "    accuracy = metrics.accuracy_score(predictions,data[outcome])\n",
    "    print('Accuracy : %s' % '{0:.3%}'.format(accuracy))\n",
    "\n",
    "    #kf = KFold(data.shape[0], n_splits=5)\n",
    "    kf = KFold(n_splits=2)\n",
    "\n",
    "    error = []\n",
    "    #for train, test in kf:\n",
    "    for train, test in kf.split(data[predictors]):\n",
    "        train_predictors = (data[predictors].iloc[train,:])\n",
    "    \n",
    "        train_target = data[outcome].iloc[train]\n",
    "    \n",
    "        model.fit(train_predictors, train_target)\n",
    "    \n",
    "        error.append(model.score(data[predictors].iloc[test,:], data[outcome].iloc[test]))\n",
    " \n",
    "    print('Cross-Validation Score : %s' % '{0:.3%}'.format(np.mean(error)))\n",
    "\n",
    "    model.fit(data[predictors],data[outcome]) "
   ]
  },
  {
   "cell_type": "code",
   "execution_count": null,
   "metadata": {},
   "outputs": [],
   "source": []
  },
  {
   "cell_type": "code",
   "execution_count": 11,
   "metadata": {},
   "outputs": [
    {
     "name": "stdout",
     "output_type": "stream",
     "text": [
      "(738, 6)\n",
      "(738, 1)\n",
      "Accuracy : 39.973%\n",
      "Cross-Validation Score : 28.184%\n"
     ]
    },
    {
     "name": "stderr",
     "output_type": "stream",
     "text": [
      "C:\\Users\\RajaZia\\Anaconda3\\lib\\site-packages\\sklearn\\linear_model\\logistic.py:432: FutureWarning: Default solver will be changed to 'lbfgs' in 0.22. Specify a solver to silence this warning.\n",
      "  FutureWarning)\n",
      "C:\\Users\\RajaZia\\Anaconda3\\lib\\site-packages\\sklearn\\utils\\validation.py:724: DataConversionWarning: A column-vector y was passed when a 1d array was expected. Please change the shape of y to (n_samples, ), for example using ravel().\n",
      "  y = column_or_1d(y, warn=True)\n",
      "C:\\Users\\RajaZia\\Anaconda3\\lib\\site-packages\\sklearn\\linear_model\\logistic.py:469: FutureWarning: Default multi_class will be changed to 'auto' in 0.22. Specify the multi_class option to silence this warning.\n",
      "  \"this warning.\", FutureWarning)\n",
      "C:\\Users\\RajaZia\\Anaconda3\\lib\\site-packages\\sklearn\\linear_model\\logistic.py:432: FutureWarning: Default solver will be changed to 'lbfgs' in 0.22. Specify a solver to silence this warning.\n",
      "  FutureWarning)\n",
      "C:\\Users\\RajaZia\\Anaconda3\\lib\\site-packages\\sklearn\\utils\\validation.py:724: DataConversionWarning: A column-vector y was passed when a 1d array was expected. Please change the shape of y to (n_samples, ), for example using ravel().\n",
      "  y = column_or_1d(y, warn=True)\n",
      "C:\\Users\\RajaZia\\Anaconda3\\lib\\site-packages\\sklearn\\linear_model\\logistic.py:469: FutureWarning: Default multi_class will be changed to 'auto' in 0.22. Specify the multi_class option to silence this warning.\n",
      "  \"this warning.\", FutureWarning)\n",
      "C:\\Users\\RajaZia\\Anaconda3\\lib\\site-packages\\sklearn\\linear_model\\logistic.py:432: FutureWarning: Default solver will be changed to 'lbfgs' in 0.22. Specify a solver to silence this warning.\n",
      "  FutureWarning)\n",
      "C:\\Users\\RajaZia\\Anaconda3\\lib\\site-packages\\sklearn\\utils\\validation.py:724: DataConversionWarning: A column-vector y was passed when a 1d array was expected. Please change the shape of y to (n_samples, ), for example using ravel().\n",
      "  y = column_or_1d(y, warn=True)\n",
      "C:\\Users\\RajaZia\\Anaconda3\\lib\\site-packages\\sklearn\\linear_model\\logistic.py:469: FutureWarning: Default multi_class will be changed to 'auto' in 0.22. Specify the multi_class option to silence this warning.\n",
      "  \"this warning.\", FutureWarning)\n",
      "C:\\Users\\RajaZia\\Anaconda3\\lib\\site-packages\\sklearn\\linear_model\\logistic.py:432: FutureWarning: Default solver will be changed to 'lbfgs' in 0.22. Specify a solver to silence this warning.\n",
      "  FutureWarning)\n",
      "C:\\Users\\RajaZia\\Anaconda3\\lib\\site-packages\\sklearn\\utils\\validation.py:724: DataConversionWarning: A column-vector y was passed when a 1d array was expected. Please change the shape of y to (n_samples, ), for example using ravel().\n",
      "  y = column_or_1d(y, warn=True)\n",
      "C:\\Users\\RajaZia\\Anaconda3\\lib\\site-packages\\sklearn\\linear_model\\logistic.py:469: FutureWarning: Default multi_class will be changed to 'auto' in 0.22. Specify the multi_class option to silence this warning.\n",
      "  \"this warning.\", FutureWarning)\n"
     ]
    },
    {
     "data": {
      "text/html": [
       "<div>\n",
       "<style scoped>\n",
       "    .dataframe tbody tr th:only-of-type {\n",
       "        vertical-align: middle;\n",
       "    }\n",
       "\n",
       "    .dataframe tbody tr th {\n",
       "        vertical-align: top;\n",
       "    }\n",
       "\n",
       "    .dataframe thead th {\n",
       "        text-align: right;\n",
       "    }\n",
       "</style>\n",
       "<table border=\"1\" class=\"dataframe\">\n",
       "  <thead>\n",
       "    <tr style=\"text-align: right;\">\n",
       "      <th></th>\n",
       "      <th>Team_1</th>\n",
       "      <th>Team_2</th>\n",
       "      <th>toss_winner</th>\n",
       "      <th>Bat</th>\n",
       "      <th>Ground</th>\n",
       "      <th>Toss</th>\n",
       "      <th>Winner</th>\n",
       "    </tr>\n",
       "  </thead>\n",
       "  <tbody>\n",
       "    <tr>\n",
       "      <td>0</td>\n",
       "      <td>3</td>\n",
       "      <td>7</td>\n",
       "      <td>3</td>\n",
       "      <td>1</td>\n",
       "      <td>56</td>\n",
       "      <td>1</td>\n",
       "      <td>3</td>\n",
       "    </tr>\n",
       "    <tr>\n",
       "      <td>1</td>\n",
       "      <td>2</td>\n",
       "      <td>4</td>\n",
       "      <td>2</td>\n",
       "      <td>0</td>\n",
       "      <td>67</td>\n",
       "      <td>1</td>\n",
       "      <td>2</td>\n",
       "    </tr>\n",
       "    <tr>\n",
       "      <td>2</td>\n",
       "      <td>5</td>\n",
       "      <td>1</td>\n",
       "      <td>5</td>\n",
       "      <td>0</td>\n",
       "      <td>13</td>\n",
       "      <td>1</td>\n",
       "      <td>5</td>\n",
       "    </tr>\n",
       "  </tbody>\n",
       "</table>\n",
       "</div>"
      ],
      "text/plain": [
       "   Team_1  Team_2  toss_winner  Bat  Ground  Toss  Winner\n",
       "0       3       7            3    1      56     1       3\n",
       "1       2       4            2    0      67     1       2\n",
       "2       5       1            5    0      13     1       5"
      ]
     },
     "execution_count": 11,
     "metadata": {},
     "output_type": "execute_result"
    }
   ],
   "source": [
    "from sklearn.ensemble import RandomForestRegressor\n",
    "outcome_var=['Winner']\n",
    "predictor_var = ['Team_1','Team_2','toss_winner','Bat','Ground','Toss']\n",
    "model = LogisticRegression()\n",
    "classification_model(model, df,predictor_var,outcome_var)\n",
    "df.head(3)"
   ]
  },
  {
   "cell_type": "code",
   "execution_count": 12,
   "metadata": {},
   "outputs": [
    {
     "name": "stdout",
     "output_type": "stream",
     "text": [
      "(738, 6)\n",
      "(738, 1)\n",
      "Accuracy : 100.000%\n",
      "Cross-Validation Score : 93.225%\n"
     ]
    },
    {
     "name": "stderr",
     "output_type": "stream",
     "text": [
      "C:\\Users\\RajaZia\\Anaconda3\\lib\\site-packages\\sklearn\\utils\\validation.py:724: DataConversionWarning: A column-vector y was passed when a 1d array was expected. Please change the shape of y to (n_samples, ), for example using ravel().\n",
      "  y = column_or_1d(y, warn=True)\n",
      "C:\\Users\\RajaZia\\Anaconda3\\lib\\site-packages\\sklearn\\utils\\validation.py:724: DataConversionWarning: A column-vector y was passed when a 1d array was expected. Please change the shape of y to (n_samples, ), for example using ravel().\n",
      "  y = column_or_1d(y, warn=True)\n",
      "C:\\Users\\RajaZia\\Anaconda3\\lib\\site-packages\\sklearn\\utils\\validation.py:724: DataConversionWarning: A column-vector y was passed when a 1d array was expected. Please change the shape of y to (n_samples, ), for example using ravel().\n",
      "  y = column_or_1d(y, warn=True)\n",
      "C:\\Users\\RajaZia\\Anaconda3\\lib\\site-packages\\sklearn\\utils\\validation.py:724: DataConversionWarning: A column-vector y was passed when a 1d array was expected. Please change the shape of y to (n_samples, ), for example using ravel().\n",
      "  y = column_or_1d(y, warn=True)\n"
     ]
    }
   ],
   "source": [
    "#Gaussian NAive bayes algorithm\n",
    "from sklearn.naive_bayes import GaussianNB\n",
    "outcome_var=['Winner']\n",
    "predictor_var = ['Team_1','Team_2','toss_winner','Bat','Ground','Toss']\n",
    "model = GaussianNB() \n",
    "classification_model(model, df,predictor_var,outcome_var)"
   ]
  },
  {
   "cell_type": "code",
   "execution_count": 13,
   "metadata": {},
   "outputs": [
    {
     "name": "stdout",
     "output_type": "stream",
     "text": [
      "(738, 6)\n",
      "(738, 1)\n",
      "Accuracy : 77.371%\n",
      "Cross-Validation Score : 35.501%\n"
     ]
    },
    {
     "name": "stderr",
     "output_type": "stream",
     "text": [
      "C:\\Users\\RajaZia\\Anaconda3\\lib\\site-packages\\ipykernel_launcher.py:26: DataConversionWarning: A column-vector y was passed when a 1d array was expected. Please change the shape of y to (n_samples, ), for example using ravel().\n",
      "C:\\Users\\RajaZia\\Anaconda3\\lib\\site-packages\\ipykernel_launcher.py:43: DataConversionWarning: A column-vector y was passed when a 1d array was expected. Please change the shape of y to (n_samples, ), for example using ravel().\n",
      "C:\\Users\\RajaZia\\Anaconda3\\lib\\site-packages\\ipykernel_launcher.py:43: DataConversionWarning: A column-vector y was passed when a 1d array was expected. Please change the shape of y to (n_samples, ), for example using ravel().\n",
      "C:\\Users\\RajaZia\\Anaconda3\\lib\\site-packages\\ipykernel_launcher.py:49: DataConversionWarning: A column-vector y was passed when a 1d array was expected. Please change the shape of y to (n_samples, ), for example using ravel().\n"
     ]
    }
   ],
   "source": [
    "#applying knn algorithm\n",
    "from sklearn.neighbors import KNeighborsClassifier\n",
    "model = KNeighborsClassifier(n_neighbors=3)\n",
    "classification_model(model, df,predictor_var,outcome_var)"
   ]
  },
  {
   "cell_type": "code",
   "execution_count": 14,
   "metadata": {},
   "outputs": [
    {
     "name": "stdout",
     "output_type": "stream",
     "text": [
      "(738, 6)\n",
      "(738, 1)\n"
     ]
    },
    {
     "name": "stderr",
     "output_type": "stream",
     "text": [
      "C:\\Users\\RajaZia\\Anaconda3\\lib\\site-packages\\sklearn\\utils\\validation.py:724: DataConversionWarning: A column-vector y was passed when a 1d array was expected. Please change the shape of y to (n_samples, ), for example using ravel().\n",
      "  y = column_or_1d(y, warn=True)\n"
     ]
    },
    {
     "name": "stdout",
     "output_type": "stream",
     "text": [
      "Accuracy : 100.000%\n",
      "Cross-Validation Score : 17.751%\n"
     ]
    },
    {
     "name": "stderr",
     "output_type": "stream",
     "text": [
      "C:\\Users\\RajaZia\\Anaconda3\\lib\\site-packages\\sklearn\\utils\\validation.py:724: DataConversionWarning: A column-vector y was passed when a 1d array was expected. Please change the shape of y to (n_samples, ), for example using ravel().\n",
      "  y = column_or_1d(y, warn=True)\n",
      "C:\\Users\\RajaZia\\Anaconda3\\lib\\site-packages\\sklearn\\utils\\validation.py:724: DataConversionWarning: A column-vector y was passed when a 1d array was expected. Please change the shape of y to (n_samples, ), for example using ravel().\n",
      "  y = column_or_1d(y, warn=True)\n",
      "C:\\Users\\RajaZia\\Anaconda3\\lib\\site-packages\\sklearn\\utils\\validation.py:724: DataConversionWarning: A column-vector y was passed when a 1d array was expected. Please change the shape of y to (n_samples, ), for example using ravel().\n",
      "  y = column_or_1d(y, warn=True)\n"
     ]
    }
   ],
   "source": [
    "#Import Library\n",
    "from sklearn import svm\n",
    "#Assumed you have, X (predictor) and Y (target) for training data set and x_test(predictor) of test_dataset\n",
    "# Create SVM classification object \n",
    "model = svm.SVC(kernel='rbf', C=1, gamma=1) \n",
    "outcome_var=['Winner']\n",
    "predictor_var = ['Team_1','Team_2','toss_winner','Bat','Ground','Toss']\n",
    "# there is various option associated with it, like changing kernel, gamma and C value. Will discuss more # about it in next section.Train the model using the training sets and check score\n",
    "classification_model(model, df,predictor_var,outcome_var)"
   ]
  },
  {
   "cell_type": "code",
   "execution_count": 15,
   "metadata": {},
   "outputs": [
    {
     "name": "stdout",
     "output_type": "stream",
     "text": [
      "(738, 6)\n",
      "(738, 1)\n"
     ]
    },
    {
     "name": "stderr",
     "output_type": "stream",
     "text": [
      "C:\\Users\\RajaZia\\Anaconda3\\lib\\site-packages\\sklearn\\ensemble\\gradient_boosting.py:1450: DataConversionWarning: A column-vector y was passed when a 1d array was expected. Please change the shape of y to (n_samples, ), for example using ravel().\n",
      "  y = column_or_1d(y, warn=True)\n"
     ]
    },
    {
     "name": "stdout",
     "output_type": "stream",
     "text": [
      "Accuracy : 100.000%\n"
     ]
    },
    {
     "name": "stderr",
     "output_type": "stream",
     "text": [
      "C:\\Users\\RajaZia\\Anaconda3\\lib\\site-packages\\sklearn\\ensemble\\gradient_boosting.py:1450: DataConversionWarning: A column-vector y was passed when a 1d array was expected. Please change the shape of y to (n_samples, ), for example using ravel().\n",
      "  y = column_or_1d(y, warn=True)\n",
      "C:\\Users\\RajaZia\\Anaconda3\\lib\\site-packages\\sklearn\\ensemble\\gradient_boosting.py:1450: DataConversionWarning: A column-vector y was passed when a 1d array was expected. Please change the shape of y to (n_samples, ), for example using ravel().\n",
      "  y = column_or_1d(y, warn=True)\n"
     ]
    },
    {
     "name": "stdout",
     "output_type": "stream",
     "text": [
      "Cross-Validation Score : 93.902%\n"
     ]
    },
    {
     "name": "stderr",
     "output_type": "stream",
     "text": [
      "C:\\Users\\RajaZia\\Anaconda3\\lib\\site-packages\\sklearn\\ensemble\\gradient_boosting.py:1450: DataConversionWarning: A column-vector y was passed when a 1d array was expected. Please change the shape of y to (n_samples, ), for example using ravel().\n",
      "  y = column_or_1d(y, warn=True)\n"
     ]
    }
   ],
   "source": [
    "#Gradient boost algorithm\n",
    "from sklearn.ensemble import GradientBoostingClassifier\n",
    "model= GradientBoostingClassifier(n_estimators=1000, learning_rate=0.1, max_depth=3, random_state=0)\n",
    "classification_model(model, df,predictor_var,outcome_var)"
   ]
  },
  {
   "cell_type": "code",
   "execution_count": 16,
   "metadata": {},
   "outputs": [
    {
     "name": "stdout",
     "output_type": "stream",
     "text": [
      "(738, 6)\n",
      "(738, 1)\n",
      "Accuracy : 100.000%\n",
      "Cross-Validation Score : 95.935%\n"
     ]
    }
   ],
   "source": [
    "#Decision tree algorithm\n",
    "from sklearn import tree\n",
    "model = tree.DecisionTreeClassifier(criterion='gini')\n",
    "outcome_var=['Winner']\n",
    "predictor_var = ['Team_1','Team_2','toss_winner','Bat','Ground','Toss']\n",
    "classification_model(model, df,predictor_var,outcome_var)"
   ]
  },
  {
   "cell_type": "code",
   "execution_count": 17,
   "metadata": {},
   "outputs": [
    {
     "name": "stdout",
     "output_type": "stream",
     "text": [
      "(738, 6)\n",
      "(738, 1)\n"
     ]
    },
    {
     "name": "stderr",
     "output_type": "stream",
     "text": [
      "C:\\Users\\RajaZia\\Anaconda3\\lib\\site-packages\\ipykernel_launcher.py:26: DataConversionWarning: A column-vector y was passed when a 1d array was expected. Please change the shape of y to (n_samples,), for example using ravel().\n"
     ]
    },
    {
     "name": "stdout",
     "output_type": "stream",
     "text": [
      "Accuracy : 100.000%\n"
     ]
    },
    {
     "name": "stderr",
     "output_type": "stream",
     "text": [
      "C:\\Users\\RajaZia\\Anaconda3\\lib\\site-packages\\ipykernel_launcher.py:43: DataConversionWarning: A column-vector y was passed when a 1d array was expected. Please change the shape of y to (n_samples,), for example using ravel().\n",
      "C:\\Users\\RajaZia\\Anaconda3\\lib\\site-packages\\ipykernel_launcher.py:43: DataConversionWarning: A column-vector y was passed when a 1d array was expected. Please change the shape of y to (n_samples,), for example using ravel().\n",
      "C:\\Users\\RajaZia\\Anaconda3\\lib\\site-packages\\ipykernel_launcher.py:49: DataConversionWarning: A column-vector y was passed when a 1d array was expected. Please change the shape of y to (n_samples,), for example using ravel().\n"
     ]
    },
    {
     "name": "stdout",
     "output_type": "stream",
     "text": [
      "Cross-Validation Score : 89.024%\n"
     ]
    },
    {
     "data": {
      "text/html": [
       "<div>\n",
       "<style scoped>\n",
       "    .dataframe tbody tr th:only-of-type {\n",
       "        vertical-align: middle;\n",
       "    }\n",
       "\n",
       "    .dataframe tbody tr th {\n",
       "        vertical-align: top;\n",
       "    }\n",
       "\n",
       "    .dataframe thead th {\n",
       "        text-align: right;\n",
       "    }\n",
       "</style>\n",
       "<table border=\"1\" class=\"dataframe\">\n",
       "  <thead>\n",
       "    <tr style=\"text-align: right;\">\n",
       "      <th></th>\n",
       "      <th>Team_1</th>\n",
       "      <th>Team_2</th>\n",
       "      <th>toss_winner</th>\n",
       "      <th>Bat</th>\n",
       "      <th>Ground</th>\n",
       "      <th>Toss</th>\n",
       "      <th>Winner</th>\n",
       "    </tr>\n",
       "  </thead>\n",
       "  <tbody>\n",
       "    <tr>\n",
       "      <td>0</td>\n",
       "      <td>3</td>\n",
       "      <td>7</td>\n",
       "      <td>3</td>\n",
       "      <td>1</td>\n",
       "      <td>56</td>\n",
       "      <td>1</td>\n",
       "      <td>3</td>\n",
       "    </tr>\n",
       "    <tr>\n",
       "      <td>1</td>\n",
       "      <td>2</td>\n",
       "      <td>4</td>\n",
       "      <td>2</td>\n",
       "      <td>0</td>\n",
       "      <td>67</td>\n",
       "      <td>1</td>\n",
       "      <td>2</td>\n",
       "    </tr>\n",
       "    <tr>\n",
       "      <td>2</td>\n",
       "      <td>5</td>\n",
       "      <td>1</td>\n",
       "      <td>5</td>\n",
       "      <td>0</td>\n",
       "      <td>13</td>\n",
       "      <td>1</td>\n",
       "      <td>5</td>\n",
       "    </tr>\n",
       "    <tr>\n",
       "      <td>3</td>\n",
       "      <td>13</td>\n",
       "      <td>14</td>\n",
       "      <td>13</td>\n",
       "      <td>1</td>\n",
       "      <td>8</td>\n",
       "      <td>0</td>\n",
       "      <td>13</td>\n",
       "    </tr>\n",
       "    <tr>\n",
       "      <td>4</td>\n",
       "      <td>12</td>\n",
       "      <td>15</td>\n",
       "      <td>12</td>\n",
       "      <td>0</td>\n",
       "      <td>8</td>\n",
       "      <td>0</td>\n",
       "      <td>12</td>\n",
       "    </tr>\n",
       "    <tr>\n",
       "      <td>5</td>\n",
       "      <td>16</td>\n",
       "      <td>13</td>\n",
       "      <td>16</td>\n",
       "      <td>0</td>\n",
       "      <td>8</td>\n",
       "      <td>0</td>\n",
       "      <td>16</td>\n",
       "    </tr>\n",
       "    <tr>\n",
       "      <td>6</td>\n",
       "      <td>15</td>\n",
       "      <td>18</td>\n",
       "      <td>15</td>\n",
       "      <td>0</td>\n",
       "      <td>8</td>\n",
       "      <td>1</td>\n",
       "      <td>15</td>\n",
       "    </tr>\n",
       "  </tbody>\n",
       "</table>\n",
       "</div>"
      ],
      "text/plain": [
       "   Team_1  Team_2  toss_winner  Bat  Ground  Toss  Winner\n",
       "0       3       7            3    1      56     1       3\n",
       "1       2       4            2    0      67     1       2\n",
       "2       5       1            5    0      13     1       5\n",
       "3      13      14           13    1       8     0      13\n",
       "4      12      15           12    0       8     0      12\n",
       "5      16      13           16    0       8     0      16\n",
       "6      15      18           15    0       8     1      15"
      ]
     },
     "execution_count": 17,
     "metadata": {},
     "output_type": "execute_result"
    }
   ],
   "source": [
    "model = RandomForestClassifier(n_estimators=100)\n",
    "outcome_var = ['Winner']\n",
    "predictor_var = ['Team_1', 'Team_2', 'Ground', 'toss_winner','Bat','Toss']\n",
    "classification_model(model, df,predictor_var,outcome_var)\n",
    "df.head(7)"
   ]
  },
  {
   "cell_type": "code",
   "execution_count": 18,
   "metadata": {},
   "outputs": [
    {
     "name": "stdout",
     "output_type": "stream",
     "text": [
      "Possible winner : Ban\n"
     ]
    }
   ],
   "source": [
    "team1='Ban'\n",
    "team2='OM'\n",
    "toss_winner='Ban'\n",
    "input=[dicVal[team1],dicVal[team2],'14',dicVal[toss_winner],'2','1']\n",
    "input = np.array(input).reshape((1, -1))\n",
    "output=model.predict(input)\n",
    "print(\"Possible winner : \"+list(dicVal.keys())[list(dicVal.values()).index(output)])"
   ]
  },
  {
   "cell_type": "code",
   "execution_count": 19,
   "metadata": {},
   "outputs": [
    {
     "name": "stdout",
     "output_type": "stream",
     "text": [
      "\n",
      "Feature importances: If we ignore teams, Venue seems to be one of important factors in determining winners followed by toss winning, city\n",
      "\n",
      "Team_1         0.437355\n",
      "toss_winner    0.423834\n",
      "Team_2         0.065565\n",
      "Ground         0.055230\n",
      "Bat            0.009349\n",
      "Toss           0.008667\n",
      "dtype: float64\n"
     ]
    }
   ],
   "source": [
    "#feature importances: If we ignore teams, Venue seems to be one of important factors in determining winners \n",
    "#followed by toss winning, city\n",
    "print()\n",
    "print(\"Feature importances: If we ignore teams, Venue seems to be one of important factors in determining winners followed by toss winning, city\")\n",
    "imp_input = pd.Series(model.feature_importances_, index=predictor_var).sort_values(ascending=False)\n",
    "print()\n",
    "print(imp_input)"
   ]
  },
  {
   "cell_type": "code",
   "execution_count": 20,
   "metadata": {},
   "outputs": [
    {
     "data": {
      "image/png": "[encoded data removed]",
      "text/plain": [
       "<Figure size 432x432 with 1 Axes>"
      ]
     },
     "metadata": {},
     "output_type": "display_data"
    }
   ],
   "source": [
    "#probability of match winning by winning toss for MI\n",
    "#df['toss_winner'].value_counts()\n",
    "count =0\n",
    "for i in range(577): \n",
    "    if df[\"toss_winner\"][i]==df[\"Winner\"][i]==1 :\n",
    "        count=count+1\n",
    "#okay from the above prediction on features, we notice toss winner has least chances of winning matches\n",
    "#but does the current stats shows the same result\n",
    "#df.count --> 577 rows\n",
    "import matplotlib.pyplot as mlt\n",
    "mlt.style.use('fivethirtyeight')\n",
    "#df_fil=df[df['toss_winner']==df['winner']]\n",
    "df_fil=df[df['toss_winner']==1]\n",
    "#slices=[len(df_fil),(577-len(df_fil))]\n",
    "slices=[count,(len(df_fil)-count)]\n",
    "mlt.pie(slices,labels=['Toss & win','Toss & lose'],startangle=90,shadow=True,explode=(0,0),autopct='%1.1f%%',colors=['g','b'])\n",
    "fig = mlt.gcf()\n",
    "fig.set_size_inches(6,6)\n",
    "mlt.show()\n",
    "\n",
    "# Toss winning does not gaurantee a match win from analysis of current stats and thus \n",
    "#prediction feature gives less weightage to that"
   ]
  },
  {
   "cell_type": "code",
   "execution_count": 21,
   "metadata": {},
   "outputs": [
    {
     "data": {
      "image/png": "[encoded data removed]",
      "text/plain": [
       "<Figure size 432x432 with 1 Axes>"
      ]
     },
     "metadata": {},
     "output_type": "display_data"
    }
   ],
   "source": [
    "#probability of match winning by winning toss for Chennai Super Kings CSK\n",
    "#df['toss_winner'].value_counts()\n",
    "count =0\n",
    "for i in range(577): \n",
    "    if df[\"toss_winner\"][i]==df[\"Winner\"][i]==5 :\n",
    "        count=count+1\n",
    "#okay from the above prediction on features, we notice toss winner has least chances of winning matches\n",
    "#but does the current stats shows the same result\n",
    "#df.count --> 577 rows\n",
    "import matplotlib.pyplot as mlt\n",
    "mlt.style.use('fivethirtyeight')\n",
    "#df_fil=df[df['toss_winner']==df['winner']]\n",
    "df_fil=df[df['toss_winner']==1]\n",
    "#slices=[len(df_fil),(577-len(df_fil))]\n",
    "slices=[count,(len(df_fil)-count)]\n",
    "mlt.pie(slices,labels=['Toss & win','Toss & lose'],startangle=90,shadow=True,explode=(0,0),autopct='%1.1f%%',colors=['g','b'])\n",
    "fig = mlt.gcf()\n",
    "fig.set_size_inches(6,6)\n",
    "mlt.show()\n",
    "# Toss winning does not gaurantee a match win from analysis of current stats and thus \n",
    "#prediction feature gives less weightage to that`"
   ]
  },
  {
   "cell_type": "code",
   "execution_count": 22,
   "metadata": {},
   "outputs": [
    {
     "data": {
      "image/png": "[encoded data removed]",
      "text/plain": [
       "<Figure size 432x432 with 1 Axes>"
      ]
     },
     "metadata": {},
     "output_type": "display_data"
    }
   ],
   "source": [
    "#df['toss_winner'].value_counts()\n",
    "count =0\n",
    "for i in range(577): \n",
    "    if df[\"toss_winner\"][i]==df['Winner'][i]==9 :\n",
    "        count=count+1\n",
    "#okay from the above prediction on features, we notice toss winner has least chances of winning matches\n",
    "#but does the current stats shows the same result\n",
    "#df.count --> 577 rows\n",
    "import matplotlib.pyplot as mlt\n",
    "mlt.style.use('fivethirtyeight')\n",
    "#df_fil=df[df['toss_winner']==df['winner']]\n",
    "df_fil=df[df['toss_winner']==1]\n",
    "#slices=[len(df_fil),(577-len(df_fil))]\n",
    "slices=[count,(len(df_fil)-count)]\n",
    "mlt.pie(slices,labels=['Toss & win','Toss & lose'],startangle=90,shadow=True,explode=(0,0),autopct='%1.1f%%',colors=['g','b'])\n",
    "fig = mlt.gcf()\n",
    "fig.set_size_inches(6,6)\n",
    "mlt.show()\n",
    "# Toss winning does not gaurantee a match win from analysis of current stats and thus \n",
    "#prediction feature gives less weightage to that"
   ]
  },
  {
   "cell_type": "code",
   "execution_count": 26,
   "metadata": {},
   "outputs": [
    {
     "data": {
      "image/png": "[encoded data removed]",
      "text/plain": [
       "<Figure size 432x432 with 1 Axes>"
      ]
     },
     "metadata": {},
     "output_type": "display_data"
    }
   ],
   "source": [
    "#genralised probbaility for winning match by winning toss\n",
    "\n",
    "\n",
    "import matplotlib.pyplot as mlt\n",
    "mlt.style.use('fivethirtyeight')\n",
    "df_fil=df[df['toss_winner']==df['Winner']]\n",
    "\n",
    "slices=[len(df_fil),(577-len(df_fil))]\n",
    "\n",
    "mlt.pie(slices,labels=['Toss & win','Toss & lose'],startangle=90,shadow=True,explode=(0,0),autopct='%1.1f%%',colors=['r','g'])\n",
    "fig = mlt.gcf()\n",
    "fig.set_size_inches(6,6)\n",
    "mlt.show()"
   ]
  },
  {
   "cell_type": "code",
   "execution_count": null,
   "metadata": {},
   "outputs": [],
   "source": [
    "#top 2 team analysis based on number of matches won against each other and how venue affects them?\n",
    "#Previously we noticed that CSK won 79, RCB won 70 matches\n",
    "#now let us compare venue against a match between CSK and RCB\n",
    "#we find that CSK has won most matches against RCB in MA Chidambaram Stadium, Chepauk, Chennai\n",
    "#RCB has not won any match with CSK in stadiums St George's Park and Wankhede Stadium, but won matches\n",
    "#with CSK in Kingsmead, New Wanderers Stadium.\n",
    "#It does prove that chances of CSK winning is more in Chepauk stadium when played against RCB.\n",
    "# Proves venue is important feature in predictability\n",
    "import seaborn as sns\n",
    "team1=dicVal['Pak']\n",
    "team2=dicVal['Ind']\n",
    "mtemp=matches[((matches['team1']==team1)|(matches['team2']==team1))&((matches['team1']==team2)|(matches['team2']==team2))]\n",
    "sns.countplot(x='venue', hue='winner',data=mtemp,palette='Set3')\n",
    "mlt.xticks(rotation='vertical')\n",
    "leg = mlt.legend( loc = 'upper right')\n",
    "fig=mlt.gcf()\n",
    "fig.set_size_inches(10,6)\n",
    "mlt.show()\n",
    "le.classes_[15]\n"
   ]
  },
  {
   "cell_type": "code",
   "execution_count": 26,
   "metadata": {},
   "outputs": [
    {
     "name": "stdout",
     "output_type": "stream",
     "text": [
      "<class 'pandas.core.frame.DataFrame'>\n",
      "RangeIndex: 738 entries, 0 to 737\n",
      "Data columns (total 7 columns):\n",
      "Team_1         738 non-null object\n",
      "Team_2         738 non-null object\n",
      "Ground         738 non-null object\n",
      "toss_winner    738 non-null object\n",
      "Bat            738 non-null object\n",
      "Winner         738 non-null object\n",
      "Toss           738 non-null object\n",
      "dtypes: object(7)\n",
      "memory usage: 40.5+ KB\n"
     ]
    },
    {
     "data": {
      "text/html": [
       "<div>\n",
       "<style scoped>\n",
       "    .dataframe tbody tr th:only-of-type {\n",
       "        vertical-align: middle;\n",
       "    }\n",
       "\n",
       "    .dataframe tbody tr th {\n",
       "        vertical-align: top;\n",
       "    }\n",
       "\n",
       "    .dataframe thead th {\n",
       "        text-align: right;\n",
       "    }\n",
       "</style>\n",
       "<table border=\"1\" class=\"dataframe\">\n",
       "  <thead>\n",
       "    <tr style=\"text-align: right;\">\n",
       "      <th></th>\n",
       "      <th>Team_1</th>\n",
       "      <th>Team_2</th>\n",
       "      <th>Ground</th>\n",
       "      <th>toss_winner</th>\n",
       "      <th>Bat</th>\n",
       "      <th>Winner</th>\n",
       "      <th>Toss</th>\n",
       "    </tr>\n",
       "  </thead>\n",
       "  <tbody>\n",
       "    <tr>\n",
       "      <td>0</td>\n",
       "      <td>Pakistan</td>\n",
       "      <td>Bangladesh</td>\n",
       "      <td>Karachi</td>\n",
       "      <td>Pakistan</td>\n",
       "      <td>first</td>\n",
       "      <td>Pakistan</td>\n",
       "      <td>win</td>\n",
       "    </tr>\n",
       "    <tr>\n",
       "      <td>1</td>\n",
       "      <td>England</td>\n",
       "      <td>NewZealand</td>\n",
       "      <td>Manchester</td>\n",
       "      <td>England</td>\n",
       "      <td>2nd</td>\n",
       "      <td>England</td>\n",
       "      <td>win</td>\n",
       "    </tr>\n",
       "    <tr>\n",
       "      <td>2</td>\n",
       "      <td>West Indies</td>\n",
       "      <td>Australia</td>\n",
       "      <td>Bridgetown</td>\n",
       "      <td>West Indies</td>\n",
       "      <td>2nd</td>\n",
       "      <td>West Indies</td>\n",
       "      <td>win</td>\n",
       "    </tr>\n",
       "    <tr>\n",
       "      <td>3</td>\n",
       "      <td>Netherlands</td>\n",
       "      <td>Kenya</td>\n",
       "      <td>Belfast</td>\n",
       "      <td>Netherlands</td>\n",
       "      <td>first</td>\n",
       "      <td>Netherlands</td>\n",
       "      <td>loss</td>\n",
       "    </tr>\n",
       "    <tr>\n",
       "      <td>4</td>\n",
       "      <td>Ireland</td>\n",
       "      <td>Scotland</td>\n",
       "      <td>Belfast</td>\n",
       "      <td>Ireland</td>\n",
       "      <td>2nd</td>\n",
       "      <td>Ireland</td>\n",
       "      <td>loss</td>\n",
       "    </tr>\n",
       "  </tbody>\n",
       "</table>\n",
       "</div>"
      ],
      "text/plain": [
       "        Team_1      Team_2      Ground  toss_winner    Bat       Winner  Toss\n",
       "0     Pakistan  Bangladesh     Karachi     Pakistan  first     Pakistan   win\n",
       "1      England  NewZealand  Manchester      England    2nd      England   win\n",
       "2  West Indies   Australia  Bridgetown  West Indies    2nd  West Indies   win\n",
       "3  Netherlands       Kenya     Belfast  Netherlands  first  Netherlands  loss\n",
       "4      Ireland    Scotland     Belfast      Ireland    2nd      Ireland  loss"
      ]
     },
     "execution_count": 26,
     "metadata": {},
     "output_type": "execute_result"
    }
   ],
   "source": [
    "matches=pd.read_csv('T201.csv',encoding=\"windows-1252\",sep = ',')\n",
    "matches.info()\n",
    "matches.head()\n",
    "#dataset = pd.read_csv(url, names=names)  "
   ]
  },
  {
   "cell_type": "code",
   "execution_count": 27,
   "metadata": {},
   "outputs": [
    {
     "name": "stdout",
     "output_type": "stream",
     "text": [
      "Team_1         0.433725\n",
      "toss_winner    0.424385\n",
      "Team_2         0.067841\n",
      "Ground         0.055917\n",
      "Toss           0.009141\n",
      "Bat            0.008991\n",
      "dtype: float64\n"
     ]
    }
   ],
   "source": [
    "imp_input = pd.Series(model.feature_importances_, index=predictor_var).sort_values(ascending=False)\n",
    "print(imp_input)"
   ]
  },
  {
   "cell_type": "code",
   "execution_count": 28,
   "metadata": {},
   "outputs": [
    {
     "data": {
      "image/png": "[encoded data removed]",
      "text/plain": [
       "<Figure size 432x432 with 1 Axes>"
      ]
     },
     "metadata": {},
     "output_type": "display_data"
    }
   ],
   "source": [
    "import matplotlib.pyplot as mlt\n",
    "mlt.style.use('fivethirtyeight')\n",
    "df_fil=df[df['toss_winner']==df['Winner']]\n",
    "slices=[len(df_fil),(577-len(df_fil))]\n",
    "mlt.pie(slices,labels=['Toss & win','Toss & lose'],startangle=90,shadow=True,explode=(0,0),autopct='%1.1f%%',colors=['r','g'])\n",
    "fig = mlt.gcf()\n",
    "fig.set_size_inches(6,6)\n",
    "mlt.show()"
   ]
  },
  {
   "cell_type": "code",
   "execution_count": 27,
   "metadata": {},
   "outputs": [
    {
     "data": {
      "image/png": "[encoded data removed]",
      "text/plain": [
       "<Figure size 720x432 with 1 Axes>"
      ]
     },
     "metadata": {},
     "output_type": "display_data"
    }
   ],
   "source": [
    "import seaborn as sns\n",
    "team1=dicVal['Pak']\n",
    "team2=dicVal['Ind']\n",
    "mtemp=matches[((matches['Team_1']==team1)|(matches['Team_2']==team1))&((matches['Team_1']==team2)|(matches['Team_2']==team2))]\n",
    "sns.countplot(x='Ground', hue='Winner',data=mtemp,palette='Set2')\n",
    "mlt.xticks(rotation='vertical')\n",
    "leg = mlt.legend( loc = 'upper right')\n",
    "fig=mlt.gcf()\n",
    "fig.set_size_inches(10,6)\n",
    "mlt.show()"
   ]
  },
  {
   "cell_type": "code",
   "execution_count": null,
   "metadata": {},
   "outputs": [],
   "source": []
  }
 ],
 "metadata": {
  "kernelspec": {
   "display_name": "Python 3",
   "language": "python",
   "name": "python3"
  },
  "language_info": {
   "codemirror_mode": {
    "name": "ipython",
    "version": 3
   },
   "file_extension": ".py",
   "mimetype": "text/x-python",
   "name": "python",
   "nbconvert_exporter": "python",
   "pygments_lexer": "ipython3",
   "version": "3.7.4"
  }
 },
 "nbformat": 4,
 "nbformat_minor": 2
}
